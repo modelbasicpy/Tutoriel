{
 "cells": [
  {
   "cell_type": "code",
   "execution_count": 11,
   "metadata": {},
   "outputs": [],
   "source": [
    "import pandas as pd\n",
    "import numpy as np\n",
    "from scipy.optimize import minimize\n",
    "import matplotlib.pyplot as plt\n",
    "from scipy.integrate import odeint"
   ]
  },
  {
   "cell_type": "code",
   "execution_count": 12,
   "metadata": {},
   "outputs": [],
   "source": [
    "data=pd.read_excel(\"learn_data2.xlsx\")"
   ]
  },
  {
   "cell_type": "code",
   "execution_count": 13,
   "metadata": {},
   "outputs": [
    {
     "data": {
      "text/html": [
       "<div>\n",
       "<style scoped>\n",
       "    .dataframe tbody tr th:only-of-type {\n",
       "        vertical-align: middle;\n",
       "    }\n",
       "\n",
       "    .dataframe tbody tr th {\n",
       "        vertical-align: top;\n",
       "    }\n",
       "\n",
       "    .dataframe thead th {\n",
       "        text-align: right;\n",
       "    }\n",
       "</style>\n",
       "<table border=\"1\" class=\"dataframe\">\n",
       "  <thead>\n",
       "    <tr style=\"text-align: right;\">\n",
       "      <th></th>\n",
       "      <th>Time</th>\n",
       "      <th>Signal_run0</th>\n",
       "      <th>Signal_run1</th>\n",
       "      <th>Signal_run2</th>\n",
       "    </tr>\n",
       "  </thead>\n",
       "  <tbody>\n",
       "    <tr>\n",
       "      <th>0</th>\n",
       "      <td>0.000000</td>\n",
       "      <td>0.041669</td>\n",
       "      <td>0.088002</td>\n",
       "      <td>0.163125</td>\n",
       "    </tr>\n",
       "    <tr>\n",
       "      <th>1</th>\n",
       "      <td>0.888889</td>\n",
       "      <td>0.255198</td>\n",
       "      <td>0.545039</td>\n",
       "      <td>1.030604</td>\n",
       "    </tr>\n",
       "    <tr>\n",
       "      <th>2</th>\n",
       "      <td>1.777778</td>\n",
       "      <td>0.418778</td>\n",
       "      <td>0.941498</td>\n",
       "      <td>1.600735</td>\n",
       "    </tr>\n",
       "    <tr>\n",
       "      <th>3</th>\n",
       "      <td>2.666667</td>\n",
       "      <td>0.701116</td>\n",
       "      <td>1.421870</td>\n",
       "      <td>2.571093</td>\n",
       "    </tr>\n",
       "    <tr>\n",
       "      <th>4</th>\n",
       "      <td>3.555556</td>\n",
       "      <td>0.867114</td>\n",
       "      <td>2.055669</td>\n",
       "      <td>3.217268</td>\n",
       "    </tr>\n",
       "    <tr>\n",
       "      <th>5</th>\n",
       "      <td>4.444444</td>\n",
       "      <td>0.998305</td>\n",
       "      <td>2.485980</td>\n",
       "      <td>3.861858</td>\n",
       "    </tr>\n",
       "    <tr>\n",
       "      <th>6</th>\n",
       "      <td>5.333333</td>\n",
       "      <td>1.173103</td>\n",
       "      <td>2.685220</td>\n",
       "      <td>5.396758</td>\n",
       "    </tr>\n",
       "    <tr>\n",
       "      <th>7</th>\n",
       "      <td>6.222222</td>\n",
       "      <td>1.477790</td>\n",
       "      <td>3.125596</td>\n",
       "      <td>6.141928</td>\n",
       "    </tr>\n",
       "    <tr>\n",
       "      <th>8</th>\n",
       "      <td>7.111111</td>\n",
       "      <td>1.608943</td>\n",
       "      <td>3.455539</td>\n",
       "      <td>6.071573</td>\n",
       "    </tr>\n",
       "    <tr>\n",
       "      <th>9</th>\n",
       "      <td>8.000000</td>\n",
       "      <td>1.760148</td>\n",
       "      <td>3.812330</td>\n",
       "      <td>8.191490</td>\n",
       "    </tr>\n",
       "  </tbody>\n",
       "</table>\n",
       "</div>"
      ],
      "text/plain": [
       "       Time  Signal_run0  Signal_run1  Signal_run2\n",
       "0  0.000000     0.041669     0.088002     0.163125\n",
       "1  0.888889     0.255198     0.545039     1.030604\n",
       "2  1.777778     0.418778     0.941498     1.600735\n",
       "3  2.666667     0.701116     1.421870     2.571093\n",
       "4  3.555556     0.867114     2.055669     3.217268\n",
       "5  4.444444     0.998305     2.485980     3.861858\n",
       "6  5.333333     1.173103     2.685220     5.396758\n",
       "7  6.222222     1.477790     3.125596     6.141928\n",
       "8  7.111111     1.608943     3.455539     6.071573\n",
       "9  8.000000     1.760148     3.812330     8.191490"
      ]
     },
     "execution_count": 13,
     "metadata": {},
     "output_type": "execute_result"
    }
   ],
   "source": [
    "data"
   ]
  },
  {
   "cell_type": "code",
   "execution_count": 4,
   "metadata": {},
   "outputs": [],
   "source": [
    "Additiv=0.2, 0.45, 0.8"
   ]
  },
  {
   "cell_type": "code",
   "execution_count": 108,
   "metadata": {},
   "outputs": [],
   "source": [
    "#definieren der Funktion\n",
    "def model(x,args):\n",
    "\n",
    "    k,d,factor= args[0]\n",
    "    \n",
    "    if len(args) > 1:\n",
    "        add=args[1]\n",
    "    \n",
    "    y=(k*x+d)*factor*add\n",
    "    \n",
    "    return y"
   ]
  },
  {
   "cell_type": "code",
   "execution_count": 123,
   "metadata": {},
   "outputs": [],
   "source": [
    "#definieren der Initialwerte für die Parametrisierung\n",
    "ini_par=1,1,1"
   ]
  },
  {
   "cell_type": "code",
   "execution_count": 132,
   "metadata": {},
   "outputs": [],
   "source": [
    "#Aufstellen einer funktion zu berechnung des Errors der minimiert werden soll\n",
    "def function(ini_par,datax,datay,Additiv):\n",
    "                       \n",
    "    error_all=[]\n",
    "    for i in range(datay.shape[1]):\n",
    "        args=ini_par,Additiv[i]         #umbennwnwn der initial variablen und hinzufügen des endsprechenden Additivs\n",
    "        sim=model(datax,args) \n",
    "        #sim=model(datax,args)           #berechnung der simulierten werte\n",
    "        error=(sim-datay.iloc[:,i])**2            #subtrahieren der simulirten werte von den gemessenen Werte\n",
    "        error_sum=np.sum(error)         #Bildung der Summe des Errors\n",
    "        error_all.append(error_sum)\n",
    "    error_all_sum=np.sum(error_all)\n",
    "    return error_all_sum"
   ]
  },
  {
   "cell_type": "code",
   "execution_count": 134,
   "metadata": {},
   "outputs": [],
   "source": [
    "result=minimize(function,ini_par, args=(data[\"Time\"],data.iloc[:,1:],Additiv), method='SLSQP')"
   ]
  },
  {
   "cell_type": "code",
   "execution_count": 135,
   "metadata": {},
   "outputs": [
    {
     "data": {
      "text/plain": [
       "     fun: 1.6192888130139973\n",
       "     jac: array([ 1.51577592e-03, -2.81929970e-05,  2.14539468e-03])\n",
       " message: 'Optimization terminated successfully'\n",
       "    nfev: 37\n",
       "     nit: 8\n",
       "    njev: 8\n",
       "  status: 0\n",
       " success: True\n",
       "       x: array([1.27694132, 0.14093497, 0.90102108])"
      ]
     },
     "execution_count": 135,
     "metadata": {},
     "output_type": "execute_result"
    }
   ],
   "source": [
    "result"
   ]
  },
  {
   "cell_type": "code",
   "execution_count": 136,
   "metadata": {},
   "outputs": [],
   "source": [
    "#abspeichern der optimierten modelparametern\n",
    "opt_value=result.x"
   ]
  },
  {
   "cell_type": "code",
   "execution_count": 137,
   "metadata": {},
   "outputs": [],
   "source": [
    "#erstellen einer simulierten zeit\n",
    "sim_time=np.linspace(0,8,1000)"
   ]
  },
  {
   "cell_type": "code",
   "execution_count": 149,
   "metadata": {},
   "outputs": [
    {
     "data": {
      "image/png": "[encoded data removed]",
      "text/plain": [
       "<Figure size 640x480 with 1 Axes>"
      ]
     },
     "metadata": {},
     "output_type": "display_data"
    }
   ],
   "source": [
    "#grafische darstellung der daten\n",
    "colour=\"red\",\"green\",\"blue\"\n",
    "for i in range(data.iloc[:,1:].shape[1]):\n",
    "    args=opt_value,Additiv[i]\n",
    "    sim=model(sim_time,args)\n",
    "    plt.plot(sim_time,sim,\"-\",label=\"simulation\",color=colour[i])\n",
    "    plt.plot(data[\"Time\"],data.iloc[:,1+i],\".\",label=\"measured\",color=colour[i])\n",
    "    plt.legend()"
   ]
  },
  {
   "cell_type": "code",
   "execution_count": 90,
   "metadata": {},
   "outputs": [
    {
     "data": {
      "text/plain": [
       "1"
      ]
     },
     "execution_count": 90,
     "metadata": {},
     "output_type": "execute_result"
    }
   ],
   "source": []
  },
  {
   "cell_type": "code",
   "execution_count": null,
   "metadata": {},
   "outputs": [],
   "source": []
  }
 ],
 "metadata": {
  "kernelspec": {
   "display_name": "env_model_4",
   "language": "python",
   "name": "python3"
  },
  "language_info": {
   "codemirror_mode": {
    "name": "ipython",
    "version": 3
   },
   "file_extension": ".py",
   "mimetype": "text/x-python",
   "name": "python",
   "nbconvert_exporter": "python",
   "pygments_lexer": "ipython3",
   "version": "3.9.16"
  },
  "orig_nbformat": 4
 },
 "nbformat": 4,
 "nbformat_minor": 2
}
